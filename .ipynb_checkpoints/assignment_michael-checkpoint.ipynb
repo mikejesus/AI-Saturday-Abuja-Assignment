{
 "cells": [
  {
   "cell_type": "code",
   "execution_count": 3,
   "metadata": {},
   "outputs": [
    {
     "name": "stdout",
     "output_type": "stream",
     "text": [
      "My name is Michael Olawuni and at the end of this cohort I want to To learn Machine Learning, apply the knowledge to practical problem and be better\n"
     ]
    }
   ],
   "source": [
    "details = {'fullname':'Michael Olawuni', 'reasonForAttendingAISaturday':'To learn Machine Learning, apply the knowledge to practical problem and be better'}\n",
    "print(\"My name is \" + details['fullname'] + \" and at the end of this cohort I want to \" + details['reasonForAttendingAISaturday'])"
   ]
  },
  {
   "cell_type": "code",
   "execution_count": 18,
   "metadata": {},
   "outputs": [
    {
     "name": "stdout",
     "output_type": "stream",
     "text": [
      "The total number of even number in the series is 4\n",
      "While the total number of odd numbers in the series is 5\n"
     ]
    }
   ],
   "source": [
    "series = [1,2,2,6,5,7,7,1,4]\n",
    "even = 0\n",
    "odd = 0\n",
    "for items in series:\n",
    "    if(items % 2 == 0):\n",
    "        even = even + 1\n",
    "    else:\n",
    "        odd = odd + 1\n",
    "print(\"The total number of even number in the series is \" + str(even))\n",
    "print(\"While the total number of odd numbers in the series is \" + str(odd))"
   ]
  }
 ],
 "metadata": {
  "kernelspec": {
   "display_name": "Python 3",
   "language": "python",
   "name": "python3"
  },
  "language_info": {
   "codemirror_mode": {
    "name": "ipython",
    "version": 3
   },
   "file_extension": ".py",
   "mimetype": "text/x-python",
   "name": "python",
   "nbconvert_exporter": "python",
   "pygments_lexer": "ipython3",
   "version": "3.6.4"
  }
 },
 "nbformat": 4,
 "nbformat_minor": 2
}
